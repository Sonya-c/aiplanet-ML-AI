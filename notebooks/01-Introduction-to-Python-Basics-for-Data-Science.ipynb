{
 "cells": [
  {
   "cell_type": "markdown",
   "id": "2a2f5732-9447-4029-b2b3-707f9fc54e7e",
   "metadata": {},
   "source": [
    "# Introduction to Python Basics for Data Science"
   ]
  },
  {
   "cell_type": "markdown",
   "id": "3d1d6b0f-3c20-49fb-8352-0895526f0c8c",
   "metadata": {},
   "source": [
    "## Negative Indexing"
   ]
  },
  {
   "cell_type": "code",
   "execution_count": 6,
   "id": "34086bcf-3d02-43de-9823-6fd69ffd34c1",
   "metadata": {},
   "outputs": [
    {
     "name": "stdout",
     "output_type": "stream",
     "text": [
      "r\n",
      "Hell\n"
     ]
    }
   ],
   "source": [
    "s = \"Hello world\"\n",
    "\n",
    "print(s[-3]) # prints r\n",
    "# print(s[-12]) # Error\n",
    "print(s[-11:-7])"
   ]
  },
  {
   "cell_type": "code",
   "execution_count": 11,
   "id": "c6545586-45ab-405d-ae05-ccae62dc307a",
   "metadata": {},
   "outputs": [
    {
     "data": {
      "text/plain": [
       "-133"
      ]
     },
     "execution_count": 11,
     "metadata": {},
     "output_type": "execute_result"
    }
   ],
   "source": [
    "L1 = [10, 20, 30, 25, 32, 45, 50]\n",
    "L2 = [80, 70, 78, 55, 62]\n",
    "sum(L1) - sum(L2)"
   ]
  }
 ],
 "metadata": {
  "kernelspec": {
   "display_name": "Python 3 (ipykernel)",
   "language": "python",
   "name": "python3"
  },
  "language_info": {
   "codemirror_mode": {
    "name": "ipython",
    "version": 3
   },
   "file_extension": ".py",
   "mimetype": "text/x-python",
   "name": "python",
   "nbconvert_exporter": "python",
   "pygments_lexer": "ipython3",
   "version": "3.11.3"
  }
 },
 "nbformat": 4,
 "nbformat_minor": 5
}
