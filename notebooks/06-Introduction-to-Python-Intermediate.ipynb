{
 "cells": [
  {
   "cell_type": "markdown",
   "id": "f41bc953-e610-4031-87dc-25da6a658db6",
   "metadata": {},
   "source": [
    "# Introduction to Python - Intermediate"
   ]
  },
  {
   "cell_type": "code",
   "execution_count": 1,
   "id": "7073d286-bdc1-4087-ae5c-6d231e94672f",
   "metadata": {
    "tags": []
   },
   "outputs": [
    {
     "name": "stdout",
     "output_type": "stream",
     "text": [
      "1 is truthy!\n"
     ]
    }
   ],
   "source": [
    "if 1:\n",
    "  print(\"1 is truthy!\")\n",
    "else:\n",
    "  print(\"1 is not truthy!\")"
   ]
  },
  {
   "cell_type": "code",
   "execution_count": 2,
   "id": "a444128e-da7b-49e8-9c17-86e8b73d9ca2",
   "metadata": {
    "tags": []
   },
   "outputs": [
    {
     "name": "stdout",
     "output_type": "stream",
     "text": [
      "2\n"
     ]
    }
   ],
   "source": [
    "x = 0\n",
    "a = 0\n",
    "b = -5\n",
    "if a > 0:\n",
    "  if b < 0:\n",
    "    x = x + 5\n",
    "  elif a > 5:\n",
    "    x = x + 4\n",
    "  else:\n",
    "    x = x + 3\n",
    "else:\n",
    "  x = x + 2\n",
    "print(x)"
   ]
  },
  {
   "cell_type": "code",
   "execution_count": 3,
   "id": "43ff225b-477d-404d-9dc3-85ed74700cd5",
   "metadata": {
    "tags": []
   },
   "outputs": [
    {
     "name": "stdout",
     "output_type": "stream",
     "text": [
      "8\n"
     ]
    }
   ],
   "source": [
    "def bar( z ):\n",
    "  i = 1\n",
    "  while ( i <= z ):\n",
    "    i *= 2\n",
    "  return i\n",
    "  print (i)\n",
    "print (bar( 7 ))"
   ]
  },
  {
   "cell_type": "code",
   "execution_count": 5,
   "id": "135d7002-6cab-453b-b96e-7601b80ccd9e",
   "metadata": {
    "tags": []
   },
   "outputs": [
    {
     "name": "stdout",
     "output_type": "stream",
     "text": [
      "Thank You DPhi\n"
     ]
    }
   ],
   "source": [
    "if 'I am enjoying learning at DPhi':\n",
    "  print(\"Thank You DPhi\")\n",
    "else:\n",
    "  print(\"Sorry\")"
   ]
  },
  {
   "cell_type": "code",
   "execution_count": 6,
   "id": "3b4be603-b6b5-43ea-8d84-d301f8c4b152",
   "metadata": {
    "tags": []
   },
   "outputs": [
    {
     "name": "stdout",
     "output_type": "stream",
     "text": [
      "True\n"
     ]
    }
   ],
   "source": [
    "a, b = 12, 5\n",
    "if a + b:\n",
    "  print(True)\n",
    "else:\n",
    "  print(False)"
   ]
  },
  {
   "cell_type": "code",
   "execution_count": 10,
   "id": "315dfdf6-03a9-4b85-8af4-b63cc3cfcb56",
   "metadata": {
    "tags": []
   },
   "outputs": [
    {
     "name": "stdout",
     "output_type": "stream",
     "text": [
      "0 h\n",
      "1 o\n",
      "2 l\n",
      "3 a\n"
     ]
    }
   ],
   "source": [
    "s = \"hola\"\n",
    "for index, char in enumerate(s):\n",
    "    print(index, char)"
   ]
  },
  {
   "cell_type": "code",
   "execution_count": 8,
   "id": "8353fbf2-6d79-48e2-8f96-f7cf7dddf7e0",
   "metadata": {
    "tags": []
   },
   "outputs": [
    {
     "data": {
      "text/plain": [
       "'HOLA'"
      ]
     },
     "execution_count": 8,
     "metadata": {},
     "output_type": "execute_result"
    }
   ],
   "source": [
    "s.upper()"
   ]
  },
  {
   "cell_type": "code",
   "execution_count": 12,
   "id": "0f526fd1-c931-4e6c-b890-caf808276316",
   "metadata": {
    "tags": []
   },
   "outputs": [
    {
     "name": "stdout",
     "output_type": "stream",
     "text": [
      "2,1,0,-1,-2,-3,-4,"
     ]
    }
   ],
   "source": [
    "for num in range(2,-5,-1):\n",
    "  print(num, end = \",\")"
   ]
  },
  {
   "cell_type": "code",
   "execution_count": 13,
   "id": "c8bd0cff-7e84-46f4-ad6d-91552bdb5110",
   "metadata": {
    "tags": []
   },
   "outputs": [
    {
     "name": "stdout",
     "output_type": "stream",
     "text": [
      "10\n",
      "11\n",
      "12\n",
      "13\n"
     ]
    }
   ],
   "source": [
    "for num in range(10, 14):\n",
    "    for i  in range(2, num):\n",
    "        if num % i == 1:\n",
    "            print(num)\n",
    "            break"
   ]
  },
  {
   "cell_type": "code",
   "execution_count": 14,
   "id": "4cfe70a2-f1cb-4ad9-9e56-dea705eb3980",
   "metadata": {
    "tags": []
   },
   "outputs": [
    {
     "name": "stdout",
     "output_type": "stream",
     "text": [
      "21\n"
     ]
    }
   ],
   "source": [
    "dphi = 10\n",
    "for i in range(10):\n",
    "    for j in range(2, 10, 1):\n",
    "        if dphi % 2 == 0:\n",
    "            continue\n",
    "            dphi += 1\n",
    "    dphi+=1\n",
    "else:\n",
    "    dphi+=1\n",
    "print(dphi)"
   ]
  },
  {
   "cell_type": "code",
   "execution_count": 15,
   "id": "a9293b1a-730e-4785-8161-07b1ec147982",
   "metadata": {
    "tags": []
   },
   "outputs": [
    {
     "name": "stdout",
     "output_type": "stream",
     "text": [
      "[(0, 'data sprint #1'), (1, 'data sprint #2'), (2, 'data sprint #3'), (3, 'data sprint #4'), (4, 'data sprint #5'), (5, 'data sprint #5'), (6, 'data sprint #6')]\n"
     ]
    }
   ],
   "source": [
    "datathons = ['data sprint #1', 'data sprint #2', 'data sprint #3', 'data sprint #4', 'data sprint #5', 'data sprint #5', 'data sprint #6']\n",
    "print(list(enumerate(datathons)))"
   ]
  },
  {
   "cell_type": "code",
   "execution_count": 16,
   "id": "55aecbc1-5628-4dfb-a07e-1d662308c29f",
   "metadata": {
    "tags": []
   },
   "outputs": [
    {
     "data": {
      "text/plain": [
       "{1, 2, 3}"
      ]
     },
     "execution_count": 16,
     "metadata": {},
     "output_type": "execute_result"
    }
   ],
   "source": [
    "x = {1, 1, 2, 3, 1}\n",
    "x"
   ]
  },
  {
   "cell_type": "code",
   "execution_count": 17,
   "id": "15ea3e54-59d8-47e2-8ee9-5b2444fb2e49",
   "metadata": {
    "tags": []
   },
   "outputs": [
    {
     "data": {
      "text/plain": [
       "{1, 2, 3, 4}"
      ]
     },
     "execution_count": 17,
     "metadata": {},
     "output_type": "execute_result"
    }
   ],
   "source": [
    "x.add(4)\n",
    "x"
   ]
  },
  {
   "cell_type": "code",
   "execution_count": 18,
   "id": "2d203301-65d1-4d8b-ab37-b63f4fcb8f66",
   "metadata": {
    "tags": []
   },
   "outputs": [
    {
     "data": {
      "text/plain": [
       "{2, 3, 4}"
      ]
     },
     "execution_count": 18,
     "metadata": {},
     "output_type": "execute_result"
    }
   ],
   "source": [
    "x.remove(1)\n",
    "x"
   ]
  },
  {
   "cell_type": "code",
   "execution_count": 19,
   "id": "7a1c71fa-0f0f-41dc-9407-a901f79d28fd",
   "metadata": {
    "tags": []
   },
   "outputs": [
    {
     "ename": "KeyError",
     "evalue": "1",
     "output_type": "error",
     "traceback": [
      "\u001b[1;31m---------------------------------------------------------------------------\u001b[0m",
      "\u001b[1;31mKeyError\u001b[0m                                  Traceback (most recent call last)",
      "Cell \u001b[1;32mIn[19], line 1\u001b[0m\n\u001b[1;32m----> 1\u001b[0m \u001b[43mx\u001b[49m\u001b[38;5;241;43m.\u001b[39;49m\u001b[43mremove\u001b[49m\u001b[43m(\u001b[49m\u001b[38;5;241;43m1\u001b[39;49m\u001b[43m)\u001b[49m\n\u001b[0;32m      2\u001b[0m x\n",
      "\u001b[1;31mKeyError\u001b[0m: 1"
     ]
    }
   ],
   "source": [
    "x.remove(1)\n",
    "x"
   ]
  },
  {
   "cell_type": "code",
   "execution_count": 20,
   "id": "1d01790a-f572-44c1-8297-669be3248111",
   "metadata": {
    "tags": []
   },
   "outputs": [
    {
     "data": {
      "text/plain": [
       "{2, 3, 4}"
      ]
     },
     "execution_count": 20,
     "metadata": {},
     "output_type": "execute_result"
    }
   ],
   "source": [
    "x.discard(1)\n",
    "x"
   ]
  },
  {
   "cell_type": "code",
   "execution_count": 21,
   "id": "acce5f9d-6c38-45d6-b1c9-a87e82ef46c6",
   "metadata": {
    "tags": []
   },
   "outputs": [
    {
     "data": {
      "text/plain": [
       "{2, 3, 4, 5, 6, 7}"
      ]
     },
     "execution_count": 21,
     "metadata": {},
     "output_type": "execute_result"
    }
   ],
   "source": [
    "y = {5, 6, 7}\n",
    "x.union(y)"
   ]
  },
  {
   "cell_type": "code",
   "execution_count": 23,
   "id": "400bc557-3eed-4812-ba7b-98ae14965826",
   "metadata": {
    "tags": []
   },
   "outputs": [
    {
     "data": {
      "text/plain": [
       "{2}"
      ]
     },
     "execution_count": 23,
     "metadata": {},
     "output_type": "execute_result"
    }
   ],
   "source": [
    "y.add(2)\n",
    "x.intersection(y)"
   ]
  },
  {
   "cell_type": "code",
   "execution_count": 24,
   "id": "131ee832-9d8d-4bce-b290-303b484d831a",
   "metadata": {
    "tags": []
   },
   "outputs": [
    {
     "data": {
      "text/plain": [
       "{2, 3, 4, 5, 6, 7}"
      ]
     },
     "execution_count": 24,
     "metadata": {},
     "output_type": "execute_result"
    }
   ],
   "source": [
    "x.update(y)\n",
    "x"
   ]
  },
  {
   "cell_type": "code",
   "execution_count": 25,
   "id": "dd9dab52-289b-4483-ac19-8ab6f4c2f837",
   "metadata": {
    "tags": []
   },
   "outputs": [
    {
     "data": {
      "text/plain": [
       "True"
      ]
     },
     "execution_count": 25,
     "metadata": {},
     "output_type": "execute_result"
    }
   ],
   "source": [
    "'dphi' in 'dphidatasciencebootcamp'"
   ]
  },
  {
   "cell_type": "code",
   "execution_count": 29,
   "id": "e5c680d3-81b7-489f-a8eb-2a76dfb2ae45",
   "metadata": {
    "tags": []
   },
   "outputs": [
    {
     "data": {
      "text/plain": [
       "{2, 3, 4, 5, 6, 7, 8, 9}"
      ]
     },
     "execution_count": 29,
     "metadata": {},
     "output_type": "execute_result"
    }
   ],
   "source": [
    "x.update({8, 9})\n",
    "x"
   ]
  },
  {
   "cell_type": "code",
   "execution_count": 30,
   "id": "c4dd277a-906f-40db-b065-82a265a4601d",
   "metadata": {
    "tags": []
   },
   "outputs": [
    {
     "name": "stdout",
     "output_type": "stream",
     "text": [
      "{'bootcamp', 'deep', 'science', 'learning', 'data', 'dphi'}\n"
     ]
    }
   ],
   "source": [
    "s = {'dphi', 'data', 'science', 'bootcamp', 'deep', 'learning'}\n",
    "s.discard('data science')\n",
    "print(s)"
   ]
  },
  {
   "cell_type": "code",
   "execution_count": 32,
   "id": "af9a7c78-cb3b-4721-8954-850056ba7b3c",
   "metadata": {
    "tags": []
   },
   "outputs": [
    {
     "name": "stdout",
     "output_type": "stream",
     "text": [
      "{'NumPy', 'Pandas', 'EDA', 'Matplotlib', 'Maths', 'Python Intermediate', 'Python Beginners'}\n"
     ]
    }
   ],
   "source": [
    "courses = {'Python Beginners', 'NumPy', 'Pandas', 'Matplotlib', 'EDA'}\n",
    "courses.update(['Python Intermediate', 'Maths'])\n",
    "print(courses)"
   ]
  },
  {
   "cell_type": "code",
   "execution_count": 44,
   "id": "182ed4eb-8b5e-4700-b121-e49523eb02de",
   "metadata": {
    "tags": []
   },
   "outputs": [
    {
     "name": "stdout",
     "output_type": "stream",
     "text": [
      "[(1, 'one'), (2, 'two'), (3, 'three')]\n"
     ]
    }
   ],
   "source": [
    "a = [1, 2, 3]\n",
    "b = [\"one\", \"two\", \"three\"]\n",
    "print([c for c in zip(a, b)])"
   ]
  },
  {
   "cell_type": "code",
   "execution_count": 54,
   "id": "67136125-04b3-4177-b869-4e018c401762",
   "metadata": {
    "tags": []
   },
   "outputs": [
    {
     "data": {
      "text/plain": [
       "[1, 4, 9]"
      ]
     },
     "execution_count": 54,
     "metadata": {},
     "output_type": "execute_result"
    }
   ],
   "source": [
    "list(map(lambda x: x**2, a))"
   ]
  },
  {
   "cell_type": "code",
   "execution_count": 55,
   "id": "f730c6d3-31ef-4821-976e-9d21b63473a1",
   "metadata": {
    "tags": []
   },
   "outputs": [
    {
     "data": {
      "text/plain": [
       "[2]"
      ]
     },
     "execution_count": 55,
     "metadata": {},
     "output_type": "execute_result"
    }
   ],
   "source": [
    "list(filter(lambda x: x % 2 == 0, a))"
   ]
  },
  {
   "cell_type": "code",
   "execution_count": 64,
   "id": "490462dd-c75f-4bdd-9445-641a3c2dedc5",
   "metadata": {
    "tags": []
   },
   "outputs": [
    {
     "data": {
      "text/plain": [
       "[5, 7, 9]"
      ]
     },
     "execution_count": 64,
     "metadata": {},
     "output_type": "execute_result"
    }
   ],
   "source": [
    "c = [4, 5, 6]\n",
    "\n",
    "list(map(lambda x, y: x + y, a, c))"
   ]
  },
  {
   "cell_type": "code",
   "execution_count": 65,
   "id": "7cc342c2-65b8-48b0-a017-82a511555c22",
   "metadata": {
    "tags": []
   },
   "outputs": [
    {
     "name": "stdout",
     "output_type": "stream",
     "text": [
      "[False, True, False, False, True, False, True, False, True, False]\n"
     ]
    }
   ],
   "source": [
    "import math\n",
    "\n",
    "# Define the scores variable\n",
    "scores = [66, 90, 68, 59, 76, 60, 88, 74, 81, 65]\n",
    "\n",
    "def is_A_student(score):\n",
    "    return score > 75\n",
    "\n",
    "over_75 = list(map(is_A_student, scores))\n",
    "print(over_75)"
   ]
  },
  {
   "cell_type": "code",
   "execution_count": 66,
   "id": "120f1e93-b7eb-491c-aba5-d59dec5fd0f0",
   "metadata": {
    "tags": []
   },
   "outputs": [
    {
     "name": "stdout",
     "output_type": "stream",
     "text": [
      "[90, 76, 88, 81]\n"
     ]
    }
   ],
   "source": [
    "scores = [66, 90, 68, 59, 76, 60, 88, 74, 81, 65]\n",
    "def is_A_student(score):\n",
    "    return score > 75\n",
    "over_75 = list(filter(is_A_student, scores))\n",
    "print(over_75)"
   ]
  },
  {
   "cell_type": "code",
   "execution_count": 67,
   "id": "9ec4233d-5619-4d77-8902-8349dc73208f",
   "metadata": {
    "tags": []
   },
   "outputs": [
    {
     "name": "stdout",
     "output_type": "stream",
     "text": [
      "[2, 3, 4]\n"
     ]
    }
   ],
   "source": [
    "numbers = [1, 2, 3]\n",
    "print(list(map(lambda x: x + 1, numbers)))"
   ]
  },
  {
   "cell_type": "code",
   "execution_count": 68,
   "id": "3f7a11a0-69a0-49ee-a528-2f08b6a7085a",
   "metadata": {
    "tags": []
   },
   "outputs": [
    {
     "ename": "SyntaxError",
     "evalue": "invalid syntax (421842588.py, line 1)",
     "output_type": "error",
     "traceback": [
      "\u001b[1;36m  Cell \u001b[1;32mIn[68], line 1\u001b[1;36m\u001b[0m\n\u001b[1;33m    func = lambda x: return x\u001b[0m\n\u001b[1;37m                     ^\u001b[0m\n\u001b[1;31mSyntaxError\u001b[0m\u001b[1;31m:\u001b[0m invalid syntax\n"
     ]
    }
   ],
   "source": [
    "func = lambda x: return x\n",
    "print(func(10))"
   ]
  },
  {
   "cell_type": "code",
   "execution_count": 69,
   "id": "012487c8-e362-4800-a2bd-481b7bc17453",
   "metadata": {
    "tags": []
   },
   "outputs": [
    {
     "data": {
      "text/plain": [
       "20.0"
      ]
     },
     "execution_count": 69,
     "metadata": {},
     "output_type": "execute_result"
    }
   ],
   "source": [
    "(lambda x: (x + 3) * 5 / 2)(5)"
   ]
  },
  {
   "cell_type": "code",
   "execution_count": 71,
   "id": "963dce0c-1d72-4126-b944-9ed97f537544",
   "metadata": {
    "tags": []
   },
   "outputs": [
    {
     "ename": "SyntaxError",
     "evalue": "invalid syntax (2617619834.py, line 1)",
     "output_type": "error",
     "traceback": [
      "\u001b[1;36m  Cell \u001b[1;32mIn[71], line 1\u001b[1;36m\u001b[0m\n\u001b[1;33m    print([if i%2==0: i; else: i+1; for i in range(3)])\u001b[0m\n\u001b[1;37m           ^\u001b[0m\n\u001b[1;31mSyntaxError\u001b[0m\u001b[1;31m:\u001b[0m invalid syntax\n"
     ]
    }
   ],
   "source": [
    "print([if i%2==0: i; else: i+1; for i in range(3)])"
   ]
  }
 ],
 "metadata": {
  "kernelspec": {
   "display_name": "Python 3 (ipykernel)",
   "language": "python",
   "name": "python3"
  },
  "language_info": {
   "codemirror_mode": {
    "name": "ipython",
    "version": 3
   },
   "file_extension": ".py",
   "mimetype": "text/x-python",
   "name": "python",
   "nbconvert_exporter": "python",
   "pygments_lexer": "ipython3",
   "version": "3.11.3"
  }
 },
 "nbformat": 4,
 "nbformat_minor": 5
}
